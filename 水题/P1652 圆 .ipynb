{
 "cells": [
  {
   "cell_type": "markdown",
   "metadata": {},
   "source": [
    "# P1652 圆\n",
    "\n",
    "## 题目描述\n",
    "\n",
    "给出 $n$ 个圆，保证任意两个圆都不相交且不相切。  \n",
    "\n",
    "然后给出两个点 $(x_1,y_1),(x_2,y_2)$，保证均不在某个圆上。现在要从 $(x_1,y_1) \\to (x_2,y_2)$ 画条曲线，问这条曲线最少穿过多少次圆的边界？\n",
    "\n",
    "## 输入格式\n",
    "\n",
    "- 第一行为一个整数 $n$，表示圆的个数；\n",
    "- 第二行是 $n$ 个整数，表示 $n$ 个圆的 $x$ 坐标；\n",
    "- 第三行是 $n$ 个整数，表示 $n$ 个圆的 $y$ 坐标；\n",
    "- 第四行是 $n$ 个整数，表示 $n$ 个圆的半径 $r$；\n",
    "- 第五行是四个整数 $x_1,y_1,x_2,y_2$。\n",
    "\n",
    "## 输出格式\n",
    "\n",
    "仅一个整数，表示最少要穿过多少次圆的边界。\n",
    "\n",
    "## 输入输出样例 #1\n",
    "\n",
    "### 输入 #1\n",
    "\n",
    "```\n",
    "7\n",
    "1 -3 2 5 -4 12 12\n",
    "1 -1 2 5 5 1 1\n",
    "8 1 2 1 1 1 2\n",
    "-5 1 12 1\n",
    "```\n",
    "\n",
    "### 输出 #1\n",
    "\n",
    "```\n",
    "3\n",
    "```\n",
    "\n",
    "## 说明/提示\n",
    "\n",
    "【数据范围】  \n",
    "\n",
    "对于 $100\\%$ 的数据，$1\\le n \\le 50$，$|x|,|y| \\le 1000$，$1 \\le r \\le 1000$。\n",
    "\n",
    "保证圆之间没有公共点。"
   ]
  },
  {
   "cell_type": "markdown",
   "metadata": {},
   "source": [
    "一个点在圆O内，一个点在圆O外，则这两个点连线一定需要穿过一次边界。"
   ]
  },
  {
   "cell_type": "code",
   "execution_count": null,
   "metadata": {},
   "outputs": [],
   "source": [
    "'''\n",
    "7\n",
    "1 -3 2 5 -4 12 12\n",
    "1 -1 2 5 5 1 1\n",
    "8 1 2 1 1 1 2\n",
    "-5 1 12 1\n",
    "'''\n",
    "import math\n",
    "\n",
    "def calculate(x,y,x_c,y_c,r):\n",
    "    return math.sqrt((x-x_c)**2+(y-y_c)**2)<r\n",
    "\n",
    "\n",
    "n=int(input())\n",
    "x_list=list(map(int,input().split()))\n",
    "y_list=list(map(int,input().split()))\n",
    "r_list=list(map(int,input().split()))\n",
    "x1,y1,x2,y2=map(int,input().split())\n",
    "cnt=0\n",
    "for i in range(n):\n",
    "    if calculate(x1,y1,x_list[i],y_list[i],r_list[i])!=calculate(x2,y2,x_list[i],y_list[i],r_list[i]):\n",
    "        cnt+=1\n",
    "\n",
    "print(cnt)\n",
    "\n"
   ]
  }
 ],
 "metadata": {
  "language_info": {
   "name": "python"
  }
 },
 "nbformat": 4,
 "nbformat_minor": 2
}
