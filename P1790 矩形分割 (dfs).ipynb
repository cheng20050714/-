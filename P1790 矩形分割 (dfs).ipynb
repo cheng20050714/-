{
 "cells": [
  {
   "cell_type": "markdown",
   "metadata": {},
   "source": [
    "> 核心是找到dfs的遍历方式：理解分割矩形其实就是从一个边界点到达另一个边界点\n"
   ]
  },
  {
   "cell_type": "markdown",
   "metadata": {},
   "source": [
    "# P1790 矩形分割\n",
    "\n",
    "## 题目描述\n",
    "\n",
    "有一个长为 $a$，宽为 $b$ 的矩形（$1 \\le a \\le 6$，$2 \\le b \\le 6$）。可以把这个矩形看作是 $a\\times b$ 个小方格。\n",
    "\n",
    "我们现在接到了这样的一个任务：请你计算出，把这个矩形分割成两个部分的方法总数。\n",
    "\n",
    "你不是可以任意地分割这个大的矩形，必须满足：\n",
    "\n",
    "分割后，每个部分，至少各自均有一个方格是在大矩形的最外边上（即大矩形最外面一环的方格）。\n",
    "\n",
    "## 输入格式\n",
    "\n",
    "输入文件仅包含两个数字，$a$ 和 $b$。\n",
    "\n",
    "## 输出格式\n",
    "\n",
    "输出仅有一行一个整数，表示分割的方案总数。\n",
    "\n",
    "## 输入输出样例 #1\n",
    "\n",
    "### 输入 #1\n",
    "\n",
    "```\n",
    "3 2\n",
    "```\n",
    "\n",
    "### 输出 #1\n",
    "\n",
    "```\n",
    "15\n",
    "```\n",
    "\n",
    "## 说明/提示\n",
    "\n",
    "![](https://cdn.luogu.com.cn/upload/image_hosting/buv0992j.png)\n"
   ]
  },
  {
   "cell_type": "markdown",
   "metadata": {},
   "source": []
  },
  {
   "cell_type": "code",
   "execution_count": null,
   "metadata": {},
   "outputs": [],
   "source": [
    "dir_x=[-1,0,1,0]\n",
    "dir_y=[0,-1,0,1]\n",
    "\n",
    "def dfs(x,y,vis,n,m):\n",
    "    global ans\n",
    "\n",
    "    # Mark current cell as visited\n",
    "    vis[x][y]=1\n",
    "    # When reach the border that wasn't visited, ans++\n",
    "    if x==1 or y==m or x==n or y==1: \n",
    "        ans+=1\n",
    "        vis[x][y]=0\n",
    "        return\n",
    "    for i in range(4):\n",
    "        nx=x+dir_x[i]\n",
    "        ny=y+dir_y[i]\n",
    "        if nx<1 or ny<1 or nx>n or ny>m or vis[nx][ny]:\n",
    "            continue\n",
    "        dfs(nx,ny,vis,n,m) #DFS Recursive\n",
    "\n",
    "    #Backtrace\n",
    "    vis[x][y]=0\n",
    "\n",
    "\n",
    "n,m=map(int,input().split())\n",
    "n+=1\n",
    "m+=1\n",
    "# !!!n is the row !!!m is the colomn!!! \n",
    "vis=[[0 for _ in range(m+1)] for _ in range(n+1)]\n",
    "ans=0\n",
    "\n",
    "# !!Avoid finding invalid splits, \n",
    "# !!so traverse starting from the second row/column.\n",
    "for i in range(2,n):\n",
    "    vis[i][1]=1\n",
    "    dfs(i,2,vis,n,m)\n",
    "    vis[i][1]=0\n",
    "    \n",
    "for i in range(2,m):\n",
    "    vis[1][i]=1\n",
    "    dfs(2,i,vis,n,m)\n",
    "    vis[1][i]=0\n",
    "\n",
    "print(ans)"
   ]
  }
 ],
 "metadata": {
  "language_info": {
   "name": "python"
  }
 },
 "nbformat": 4,
 "nbformat_minor": 2
}
