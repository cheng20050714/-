{
 "cells": [
  {
   "cell_type": "markdown",
   "metadata": {},
   "source": [
    "# 单调队列\n",
    "**最核心的其实就是要维护一个单调递增/递减的队列**\n",
    "\n",
    "形成这个队列的原因就是：从前往后遍历，对于任意元素0，若后续有新元素1大于它，则元素0必然不可能成为最大元素，故被移除；对于任意元素0，若后续有新元素1小于它，则在比新元素1更大的元素出现之前，元素1仍有可能是最大元素...最终形成一个单调队列。\n",
    "\n",
    "模板题如下：\n",
    "https://www.luogu.com.cn/problem/P1886"
   ]
  },
  {
   "cell_type": "code",
   "execution_count": null,
   "metadata": {},
   "outputs": [],
   "source": [
    "'''\n",
    "8 3\n",
    "1 3 -1 -3 5 3 6 7\n",
    "'''\n",
    "\n",
    "import sys\n",
    "from collections import deque\n",
    "\n",
    "def sliding_window(n, k, arr):\n",
    "    min_result = []\n",
    "    max_result = []\n",
    "    \n",
    "    min_q = deque()\n",
    "    for i in range(n):\n",
    "        # 移除超出窗口范围的元素\n",
    "        while min_q and min_q[0] <= i - k:\n",
    "            min_q.popleft()\n",
    "        \n",
    "        # 维护单调递增队列\n",
    "        while min_q and arr[min_q[-1]] >= arr[i]:\n",
    "            min_q.pop()\n",
    "        \n",
    "        min_q.append(i)\n",
    "        \n",
    "        # 当窗口形成后开始记录结果\n",
    "        if i >= k - 1:\n",
    "            min_result.append(str(arr[min_q[0]]))\n",
    "    \n",
    "    max_q = deque()\n",
    "    for i in range(n):\n",
    "        while max_q and max_q[0] <= i - k:\n",
    "            max_q.popleft()\n",
    "        \n",
    "        while max_q and arr[max_q[-1]] <= arr[i]:\n",
    "            max_q.pop()\n",
    "        \n",
    "        max_q.append(i)\n",
    "        \n",
    "        if i >= k - 1:\n",
    "            max_result.append(str(arr[max_q[0]]))\n",
    "    \n",
    "    print(' '.join(min_result))\n",
    "    print(' '.join(max_result))\n",
    "\n",
    "n,k = map(int, input().split())\n",
    "arr = list(map(int, input().split()))\n",
    "sliding_window(n, k, arr)\n"
   ]
  },
  {
   "cell_type": "markdown",
   "metadata": {},
   "source": [
    "> 这里 `print(' '.join(max_result))` 比 `print(*max_result)` 要更快"
   ]
  }
 ],
 "metadata": {
  "language_info": {
   "name": "python"
  }
 },
 "nbformat": 4,
 "nbformat_minor": 2
}
